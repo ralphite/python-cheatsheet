{
 "cells": [
  {
   "cell_type": "markdown",
   "metadata": {
    "collapsed": true
   },
   "source": [
    "# Python Cheatsheet"
   ]
  },
  {
   "cell_type": "markdown",
   "metadata": {},
   "source": [
    "## Basics"
   ]
  },
  {
   "cell_type": "code",
   "execution_count": 328,
   "metadata": {
    "collapsed": true
   },
   "outputs": [],
   "source": [
    "from pprint import pprint\n",
    "p = pprint"
   ]
  },
  {
   "cell_type": "code",
   "execution_count": 329,
   "metadata": {},
   "outputs": [
    {
     "name": "stdout",
     "output_type": "stream",
     "text": [
      "['a', 'b', 'c', 'd', 'e']\n"
     ]
    }
   ],
   "source": [
    "arr = list('abc')\n",
    "arr.extend(['d'])\n",
    "arr += ['e']\n",
    "p(arr)"
   ]
  },
  {
   "cell_type": "code",
   "execution_count": 330,
   "metadata": {},
   "outputs": [
    {
     "data": {
      "text/plain": [
       "2"
      ]
     },
     "execution_count": 330,
     "metadata": {
      "bento_obj_id": "140565744265568"
     },
     "output_type": "execute_result"
    }
   ],
   "source": [
    "arr.index('c')"
   ]
  },
  {
   "cell_type": "code",
   "execution_count": 331,
   "metadata": {},
   "outputs": [
    {
     "data": {
      "text/plain": [
       "{0: 'a', 1: 'b', 2: 'c', 3: 'd'}"
      ]
     },
     "execution_count": 331,
     "metadata": {
      "bento_obj_id": "140564308373152"
     },
     "output_type": "execute_result"
    }
   ],
   "source": [
    "dict(enumerate('abcd'))"
   ]
  },
  {
   "cell_type": "code",
   "execution_count": 334,
   "metadata": {},
   "outputs": [
    {
     "data": {
      "text/plain": [
       "{'a': 0.0, 'b': 1.0, 'c': 1.4142135623730951}"
      ]
     },
     "execution_count": 334,
     "metadata": {
      "bento_obj_id": "140564289858080"
     },
     "output_type": "execute_result"
    }
   ],
   "source": [
    "s = 'abc'\n",
    "dict(zip(list(s), [i**.5 for i in range(len(s))]))"
   ]
  },
  {
   "cell_type": "code",
   "execution_count": 335,
   "metadata": {},
   "outputs": [
    {
     "data": {
      "text/plain": [
       "[('c', 1.4142135623730951), ('b', 1.0), ('a', 0.0)]"
      ]
     },
     "execution_count": 335,
     "metadata": {
      "bento_obj_id": "140564308388680"
     },
     "output_type": "execute_result"
    }
   ],
   "source": [
    "sorted(d.items(), key=lambda e: -e[1])"
   ]
  },
  {
   "cell_type": "code",
   "execution_count": 336,
   "metadata": {},
   "outputs": [
    {
     "name": "stdout",
     "output_type": "stream",
     "text": [
      "{'a': 1}\n"
     ]
    }
   ],
   "source": [
    "d = {}\n",
    "d['a'] = d.get('a', 0) + 1\n",
    "p(d)"
   ]
  },
  {
   "cell_type": "code",
   "execution_count": 279,
   "metadata": {},
   "outputs": [
    {
     "name": "stdout",
     "output_type": "stream",
     "text": [
      "defaultdict(<class 'list'>, {'a': [1]})\n"
     ]
    }
   ],
   "source": [
    "from collections import defaultdict\n",
    "d = defaultdict(list)\n",
    "d['a'].append(1)\n",
    "p(d)"
   ]
  },
  {
   "cell_type": "code",
   "execution_count": 337,
   "metadata": {},
   "outputs": [
    {
     "name": "stdout",
     "output_type": "stream",
     "text": [
      "Counter({2: 24, 5: 24, 1: 19, 4: 17, 3: 16})\n",
      "[(2, 24), (5, 24)]\n"
     ]
    }
   ],
   "source": [
    "from collections import Counter\n",
    "from random import randint\n",
    "c = Counter([randint(1,5) for i in range(100)])\n",
    "p(c)\n",
    "p(c.most_common(2))"
   ]
  },
  {
   "cell_type": "code",
   "execution_count": 338,
   "metadata": {},
   "outputs": [
    {
     "name": "stdout",
     "output_type": "stream",
     "text": [
      "{1, 2, 3}\n",
      "{2}\n",
      "{1}\n",
      "{1, 3}\n",
      "False\n",
      "False\n",
      "{1}\n",
      "{2, 3}\n",
      "False\n"
     ]
    }
   ],
   "source": [
    "s={1,2}\n",
    "t={2,3}\n",
    "p(s.union(t))\n",
    "p(s.intersection(t))\n",
    "p(s.difference(t))\n",
    "p(s.symmetric_difference(t))\n",
    "p(s.issubset(t))\n",
    "p(s.issuperset(t))\n",
    "s.difference_update(t)\n",
    "p(s)\n",
    "p(t)\n",
    "p(s.issubset(t))"
   ]
  },
  {
   "cell_type": "code",
   "execution_count": 339,
   "metadata": {},
   "outputs": [
    {
     "data": {
      "text/plain": [
       "frozenset({1})"
      ]
     },
     "execution_count": 339,
     "metadata": {
      "bento_obj_id": "140564289980008"
     },
     "output_type": "execute_result"
    }
   ],
   "source": [
    "frozenset(s)"
   ]
  },
  {
   "cell_type": "code",
   "execution_count": 340,
   "metadata": {},
   "outputs": [
    {
     "data": {
      "text/plain": [
       "{frozenset({2}), frozenset({1})}"
      ]
     },
     "execution_count": 340,
     "metadata": {
      "bento_obj_id": "140564289978664"
     },
     "output_type": "execute_result"
    }
   ],
   "source": [
    "set((frozenset(s) for s in [{1}, {2}]))"
   ]
  },
  {
   "cell_type": "code",
   "execution_count": 346,
   "metadata": {},
   "outputs": [
    {
     "name": "stdout",
     "output_type": "stream",
     "text": [
      "[1, 5, 1, 4, 2, 2, 1, 2, 3, 2, 4, 1, 4, 5, 5, 2, 2, 5, 5, 5]\n",
      "[1, 2, 1, 2, 2, 1, 1, 2, 3, 5, 4, 2, 4, 5, 5, 2, 4, 5, 5, 5]\n",
      "1\n",
      "[1, 2, 1, 2, 2, 1, 5, 2, 3, 5, 4, 2, 4, 5, 5, 2, 4, 5, 5]\n",
      "[0, 1, 1, 2, 2, 1, 5, 2, 3, 2, 4, 2, 4, 5, 5, 2, 4, 5, 5, 5]\n",
      "0\n",
      "[1, 1, 1, 2, 2, 2, 5, 2, 3, 2, 4, 5, 4, 5, 5, 2, 4, 5, 5]\n"
     ]
    }
   ],
   "source": [
    "from heapq import heapify, heappush, heappop\n",
    "h = [randint(1,5) for _ in range(20)]\n",
    "p(h)\n",
    "heapify(h)\n",
    "p(h)\n",
    "p(heappop(h))\n",
    "p(h)\n",
    "heappush(h, 0)\n",
    "p(h)\n",
    "p(heappop(h))\n",
    "p(h)"
   ]
  },
  {
   "cell_type": "markdown",
   "metadata": {},
   "source": [
    "## Enumerate"
   ]
  },
  {
   "cell_type": "code",
   "execution_count": 347,
   "metadata": {},
   "outputs": [
    {
     "name": "stdout",
     "output_type": "stream",
     "text": [
      "(0, 0.0)\n",
      "(1, 1.0)\n",
      "(2, 1.4142135623730951)\n"
     ]
    }
   ],
   "source": [
    "for i, e in enumerate(range(3)):\n",
    "    p((i, e ** .5))"
   ]
  },
  {
   "cell_type": "code",
   "execution_count": 348,
   "metadata": {},
   "outputs": [
    {
     "name": "stdout",
     "output_type": "stream",
     "text": [
      "(2, 0.0)\n",
      "(3, 1.0)\n",
      "(4, 1.4142135623730951)\n"
     ]
    }
   ],
   "source": [
    "for i, e in enumerate(range(3), 2):\n",
    "    p((i, e ** .5))"
   ]
  },
  {
   "cell_type": "markdown",
   "metadata": {
    "collapsed": true
   },
   "source": [
    "## Named Tuple"
   ]
  },
  {
   "cell_type": "code",
   "execution_count": 349,
   "metadata": {},
   "outputs": [
    {
     "name": "stdout",
     "output_type": "stream",
     "text": [
      "Point(x=1, y=2)\n",
      "Point(x=3, y=4)\n",
      "Point(x=5, y=6)\n"
     ]
    }
   ],
   "source": [
    "from collections import namedtuple\n",
    "Point = namedtuple('Point', 'x y')\n",
    "a = Point(1, 2)\n",
    "b = Point(3, y=4)\n",
    "c = Point(x=5, y=6)\n",
    "p(a)\n",
    "p(b)\n",
    "p(c)"
   ]
  },
  {
   "cell_type": "code",
   "execution_count": 350,
   "metadata": {},
   "outputs": [
    {
     "name": "stdout",
     "output_type": "stream",
     "text": [
      "1\n",
      "3\n",
      "6\n"
     ]
    },
    {
     "data": {
      "text/plain": [
       "('x', 'y')"
      ]
     },
     "execution_count": 350,
     "metadata": {
      "bento_obj_id": "140564290513224"
     },
     "output_type": "execute_result"
    }
   ],
   "source": [
    "p(a[0])\n",
    "p(b.x)\n",
    "p(getattr(c, 'y'))\n",
    "a._fields"
   ]
  },
  {
   "cell_type": "markdown",
   "metadata": {},
   "source": [
    "## Generator/Iterator"
   ]
  },
  {
   "cell_type": "code",
   "execution_count": 351,
   "metadata": {},
   "outputs": [
    {
     "name": "stdout",
     "output_type": "stream",
     "text": [
      "1 1 2 3 5 8 13 21 34 55 89 144 \n",
      "233\n",
      "377\n"
     ]
    }
   ],
   "source": [
    "def fib_gen():\n",
    "    a, b = 1, 1\n",
    "    while True:\n",
    "        yield a\n",
    "        a, b = b, a + b\n",
    "\n",
    "f = fib_gen()\n",
    "for e in f:\n",
    "    print(e, end=' '),\n",
    "    if e > 100:\n",
    "        break\n",
    "print()\n",
    "print(next(f))\n",
    "print(next(f))"
   ]
  },
  {
   "cell_type": "code",
   "execution_count": 352,
   "metadata": {},
   "outputs": [
    {
     "name": "stdout",
     "output_type": "stream",
     "text": [
      "1\n",
      "2\n",
      "3\n",
      "5\n",
      "8\n"
     ]
    }
   ],
   "source": [
    "g = fib_gen()\n",
    "next(g)\n",
    "for _ in range(5):\n",
    "    print(next(g))"
   ]
  },
  {
   "cell_type": "markdown",
   "metadata": {},
   "source": [
    "## Type"
   ]
  },
  {
   "cell_type": "code",
   "execution_count": 353,
   "metadata": {},
   "outputs": [
    {
     "data": {
      "text/plain": [
       "(int, str, list, set, zip)"
      ]
     },
     "execution_count": 353,
     "metadata": {
      "bento_obj_id": "140564290856128"
     },
     "output_type": "execute_result"
    }
   ],
   "source": [
    "type(1), type('a'), type([]), type({(1,)}), type(zip(range(3), range(4)))"
   ]
  },
  {
   "cell_type": "code",
   "execution_count": 354,
   "metadata": {},
   "outputs": [
    {
     "data": {
      "text/plain": [
       "(True, False, False)"
      ]
     },
     "execution_count": 354,
     "metadata": {
      "bento_obj_id": "140564491611376"
     },
     "output_type": "execute_result"
    }
   ],
   "source": [
    "from numbers import Number, Real, Integral, Complex\n",
    "isinstance(1, Number), isinstance(1., Integral), isinstance([], Number)"
   ]
  },
  {
   "cell_type": "code",
   "execution_count": 355,
   "metadata": {
    "collapsed": true
   },
   "outputs": [],
   "source": [
    "def f(a: Number, b: Number) -> Number:\n",
    "    return a + b"
   ]
  },
  {
   "cell_type": "code",
   "execution_count": 356,
   "metadata": {},
   "outputs": [
    {
     "data": {
      "text/plain": [
       "3"
      ]
     },
     "execution_count": 356,
     "metadata": {
      "bento_obj_id": "140565744265600"
     },
     "output_type": "execute_result"
    }
   ],
   "source": [
    "f(1, 2)"
   ]
  },
  {
   "cell_type": "code",
   "execution_count": 358,
   "metadata": {},
   "outputs": [
    {
     "name": "stdout",
     "output_type": "stream",
     "text": [
      "'demo type error'\n"
     ]
    }
   ],
   "source": [
    "try:\n",
    "    f(1, '2')\n",
    "except TypeError:\n",
    "    p('demo type error')"
   ]
  },
  {
   "cell_type": "markdown",
   "metadata": {},
   "source": [
    "## String"
   ]
  },
  {
   "cell_type": "code",
   "execution_count": 359,
   "metadata": {},
   "outputs": [
    {
     "data": {
      "text/plain": [
       "'asd sad dsfa'"
      ]
     },
     "execution_count": 359,
     "metadata": {
      "bento_obj_id": "140564290062960"
     },
     "output_type": "execute_result"
    }
   ],
   "source": [
    "s = ' asd sad dsfa \\n \\t '\n",
    "s.strip()"
   ]
  },
  {
   "cell_type": "code",
   "execution_count": 360,
   "metadata": {},
   "outputs": [],
   "source": [
    "t = s.strip().strip('a')"
   ]
  },
  {
   "cell_type": "code",
   "execution_count": 361,
   "metadata": {},
   "outputs": [
    {
     "data": {
      "text/plain": [
       "(True, False, 'xd xad dxf', 'sd sad dsf', False, 4)"
      ]
     },
     "execution_count": 361,
     "metadata": {
      "bento_obj_id": "140564290827560"
     },
     "output_type": "execute_result"
    }
   ],
   "source": [
    "t.startswith('sd'), t.endswith('x'), t.replace('s', 'x'), t, t.isnumeric(), t.index('a')"
   ]
  },
  {
   "cell_type": "code",
   "execution_count": 362,
   "metadata": {},
   "outputs": [
    {
     "data": {
      "text/plain": [
       "25"
      ]
     },
     "execution_count": 362,
     "metadata": {
      "bento_obj_id": "140565744266304"
     },
     "output_type": "execute_result"
    }
   ],
   "source": [
    "ord('z') - ord('a')"
   ]
  },
  {
   "cell_type": "code",
   "execution_count": 363,
   "metadata": {},
   "outputs": [
    {
     "data": {
      "text/plain": [
       "'0'"
      ]
     },
     "execution_count": 363,
     "metadata": {
      "bento_obj_id": "140565713421848"
     },
     "output_type": "execute_result"
    }
   ],
   "source": [
    "chr(48)"
   ]
  },
  {
   "cell_type": "markdown",
   "metadata": {},
   "source": [
    "## Numbers"
   ]
  },
  {
   "cell_type": "code",
   "execution_count": 364,
   "metadata": {},
   "outputs": [
    {
     "data": {
      "text/plain": [
       "(inf, -inf)"
      ]
     },
     "execution_count": 364,
     "metadata": {
      "bento_obj_id": "140564290341320"
     },
     "output_type": "execute_result"
    }
   ],
   "source": [
    "float('inf'), float('-inf')"
   ]
  },
  {
   "cell_type": "code",
   "execution_count": 365,
   "metadata": {},
   "outputs": [
    {
     "data": {
      "text/plain": [
       "1024"
      ]
     },
     "execution_count": 365,
     "metadata": {
      "bento_obj_id": "140564290122384"
     },
     "output_type": "execute_result"
    }
   ],
   "source": [
    "pow(2, 10)"
   ]
  },
  {
   "cell_type": "code",
   "execution_count": 366,
   "metadata": {},
   "outputs": [
    {
     "data": {
      "text/plain": [
       "(2, 2, 3, 3)"
      ]
     },
     "execution_count": 366,
     "metadata": {
      "bento_obj_id": "140564290126616"
     },
     "output_type": "execute_result"
    }
   ],
   "source": [
    "round(2.4), round(2.5), round(2.500001), round(3)"
   ]
  },
  {
   "cell_type": "markdown",
   "metadata": {},
   "source": [
    "## Lambda"
   ]
  },
  {
   "cell_type": "code",
   "execution_count": 367,
   "metadata": {},
   "outputs": [
    {
     "data": {
      "text/plain": [
       "function"
      ]
     },
     "execution_count": 367,
     "metadata": {
      "bento_obj_id": "140565743930784"
     },
     "output_type": "execute_result"
    }
   ],
   "source": [
    "f = lambda x, y: (x+y)*(x-y)\n",
    "type(f)"
   ]
  },
  {
   "cell_type": "code",
   "execution_count": 368,
   "metadata": {},
   "outputs": [
    {
     "data": {
      "text/plain": [
       "-3"
      ]
     },
     "execution_count": 368,
     "metadata": {
      "bento_obj_id": "140565744265408"
     },
     "output_type": "execute_result"
    }
   ],
   "source": [
    "f(1, 2)"
   ]
  },
  {
   "cell_type": "markdown",
   "metadata": {},
   "source": [
    "## Comprehension"
   ]
  },
  {
   "cell_type": "code",
   "execution_count": 369,
   "metadata": {},
   "outputs": [
    {
     "data": {
      "text/plain": [
       "[3.1622776601683795, 2.8284271247461903, 2.449489742783178, 2.0]"
      ]
     },
     "execution_count": 369,
     "metadata": {
      "bento_obj_id": "140564289993224"
     },
     "output_type": "execute_result"
    }
   ],
   "source": [
    "[e ** .5 for e in range(10, 3, -2)]"
   ]
  },
  {
   "cell_type": "code",
   "execution_count": 370,
   "metadata": {},
   "outputs": [
    {
     "data": {
      "text/plain": [
       "[0, 1, 2, 1, 2, 3, 2, 3, 4]"
      ]
     },
     "execution_count": 370,
     "metadata": {
      "bento_obj_id": "140564290067208"
     },
     "output_type": "execute_result"
    }
   ],
   "source": [
    "[i+j for i in range(3) for j in range(3)]"
   ]
  },
  {
   "cell_type": "code",
   "execution_count": 371,
   "metadata": {},
   "outputs": [
    {
     "data": {
      "text/plain": [
       "<generator object <genexpr> at 0x7fd7ac9a4d58>"
      ]
     },
     "execution_count": 371,
     "metadata": {
      "bento_obj_id": "140564290489688"
     },
     "output_type": "execute_result"
    }
   ],
   "source": [
    "(x for x in range(3))"
   ]
  },
  {
   "cell_type": "code",
   "execution_count": 372,
   "metadata": {},
   "outputs": [
    {
     "data": {
      "text/plain": [
       "{'2^0': 1,\n",
       " '2^1': 2,\n",
       " '2^2': 4,\n",
       " '2^3': 8,\n",
       " '2^4': 16,\n",
       " '2^5': 32,\n",
       " '2^6': 64,\n",
       " '2^7': 128,\n",
       " '2^8': 256}"
      ]
     },
     "execution_count": 372,
     "metadata": {
      "bento_obj_id": "140564289913840"
     },
     "output_type": "execute_result"
    }
   ],
   "source": [
    "{'2^{}'.format(i): 1 << i for i in range(9)}"
   ]
  },
  {
   "cell_type": "code",
   "execution_count": 373,
   "metadata": {},
   "outputs": [
    {
     "data": {
      "text/plain": [
       "{(0, 0), (0, 1), (0, 2), (1, 0), (1, 1), (2, 0), '?'}"
      ]
     },
     "execution_count": 373,
     "metadata": {
      "bento_obj_id": "140564290390952"
     },
     "output_type": "execute_result"
    }
   ],
   "source": [
    "{(x,y) if x + y < 3 else '?' for x in range(3) for y in range(3)}"
   ]
  },
  {
   "cell_type": "markdown",
   "metadata": {},
   "source": [
    "## Any/All"
   ]
  },
  {
   "cell_type": "code",
   "execution_count": 374,
   "metadata": {},
   "outputs": [
    {
     "data": {
      "text/plain": [
       "False"
      ]
     },
     "execution_count": 374,
     "metadata": {
      "bento_obj_id": "140565743855072"
     },
     "output_type": "execute_result"
    }
   ],
   "source": [
    "any(('', 0, False, None, [], {}, frozenset()))"
   ]
  },
  {
   "cell_type": "code",
   "execution_count": 375,
   "metadata": {},
   "outputs": [
    {
     "data": {
      "text/plain": [
       "True"
      ]
     },
     "execution_count": 375,
     "metadata": {
      "bento_obj_id": "140565743855040"
     },
     "output_type": "execute_result"
    }
   ],
   "source": [
    "all((1, 'a', True, lambda : 1, {1}))"
   ]
  },
  {
   "cell_type": "markdown",
   "metadata": {},
   "source": [
    "## Closure"
   ]
  },
  {
   "cell_type": "code",
   "execution_count": 376,
   "metadata": {},
   "outputs": [
    {
     "data": {
      "text/plain": [
       "(15, 20)"
      ]
     },
     "execution_count": 376,
     "metadata": {
      "bento_obj_id": "140564290411784"
     },
     "output_type": "execute_result"
    }
   ],
   "source": [
    "def get_multiplier(a):\n",
    "    def helper(b):\n",
    "        return a * b\n",
    "    return helper\n",
    "\n",
    "times3 = get_multiplier(3)\n",
    "times4 = get_multiplier(4)\n",
    "times3(5), times4(5)"
   ]
  },
  {
   "cell_type": "markdown",
   "metadata": {},
   "source": [
    "## Decorator"
   ]
  },
  {
   "cell_type": "code",
   "execution_count": 377,
   "metadata": {},
   "outputs": [
    {
     "name": "stdout",
     "output_type": "stream",
     "text": [
      "register uri path for view function `view`: /\n",
      "arg of view function: world\n",
      "build resp: <div>hello world</div>\n"
     ]
    }
   ],
   "source": [
    "def route(path):\n",
    "    def deco(view_func):\n",
    "        def wrapped(arg):\n",
    "            print(f'register uri path for view function `{view_func.__name__}`: {path}')\n",
    "            print(f'arg of view function: {arg}')\n",
    "            r = view_func(arg)\n",
    "            print(f'build resp: <div>{r}</div>')\n",
    "        return wrapped\n",
    "    return deco\n",
    "\n",
    "@route('/')\n",
    "def view(name):\n",
    "    return f'hello {name}'\n",
    "\n",
    "view('world')"
   ]
  },
  {
   "cell_type": "markdown",
   "metadata": {},
   "source": [
    "## Class"
   ]
  },
  {
   "cell_type": "code",
   "execution_count": 378,
   "metadata": {},
   "outputs": [
    {
     "name": "stdout",
     "output_type": "stream",
     "text": [
      "<ListNode: id=140564290222568 val=0, next=140565743959152>\n",
      "<ListNode: id=140564289961600 val=1, next=140564290222568>\n"
     ]
    }
   ],
   "source": [
    "class ListNode:\n",
    "    def __init__(self, val, next=None):\n",
    "        self.val = val\n",
    "        self.next = next\n",
    "        \n",
    "    def __str__(self):\n",
    "        return f'<{self.get_name()}: id={id(self)} val={self.val}, next={id(self.next)}>'\n",
    "    \n",
    "    def __repr__(self):\n",
    "        return str(self)\n",
    "    \n",
    "    @classmethod\n",
    "    def get_name(cls):\n",
    "        return cls.__name__\n",
    "    \n",
    "n = ListNode(0)\n",
    "p(n)\n",
    "p(ListNode(1, n))"
   ]
  },
  {
   "cell_type": "markdown",
   "metadata": {},
   "source": [
    "## Recursion Limit"
   ]
  },
  {
   "cell_type": "code",
   "execution_count": 379,
   "metadata": {},
   "outputs": [
    {
     "data": {
      "text/plain": [
       "1000000"
      ]
     },
     "execution_count": 379,
     "metadata": {
      "bento_obj_id": "140564290125232"
     },
     "output_type": "execute_result"
    }
   ],
   "source": [
    "import sys\n",
    "sys.getrecursionlimit() # On Mac/Win default to 1000"
   ]
  },
  {
   "cell_type": "markdown",
   "metadata": {},
   "source": [
    "## Exception"
   ]
  },
  {
   "cell_type": "code",
   "execution_count": 380,
   "metadata": {},
   "outputs": [
    {
     "name": "stdout",
     "output_type": "stream",
     "text": [
      "'byebye'\n",
      "'cannot 1 / 0'\n",
      "'byebye'\n",
      "ValueError('v cannot be negtive',)\n",
      "'byebye'\n"
     ]
    }
   ],
   "source": [
    "def f(v):\n",
    "    try:\n",
    "        if v < 0:\n",
    "            raise ValueError('v cannot be negtive')\n",
    "        return 1 / v\n",
    "    except ZeroDivisionError as e:\n",
    "        p('cannot 1 / 0')\n",
    "    except Exception as e:\n",
    "        p(e)\n",
    "    finally:\n",
    "        p('byebye')\n",
    "\n",
    "f(1)\n",
    "f(0)\n",
    "f(-1)\n",
    "    "
   ]
  },
  {
   "cell_type": "markdown",
   "metadata": {},
   "source": [
    "## Iter Tools"
   ]
  },
  {
   "cell_type": "code",
   "execution_count": 381,
   "metadata": {},
   "outputs": [
    {
     "data": {
      "text/plain": [
       "[('a', 'a'), ('a', 'b'), ('a', 'c'), ('b', 'b'), ('b', 'c'), ('c', 'c')]"
      ]
     },
     "execution_count": 381,
     "metadata": {
      "bento_obj_id": "140564290067848"
     },
     "output_type": "execute_result"
    }
   ],
   "source": [
    "from itertools import *\n",
    "\n",
    "list(combinations_with_replacement('abc', 2))"
   ]
  },
  {
   "cell_type": "code",
   "execution_count": 382,
   "metadata": {},
   "outputs": [
    {
     "name": "stdout",
     "output_type": "stream",
     "text": [
      "('a', 'b')\n",
      "('a', 'c')\n",
      "('b', 'c')\n"
     ]
    }
   ],
   "source": [
    "for a, b in combinations('abc', 2):\n",
    "    p((a, b))"
   ]
  },
  {
   "cell_type": "code",
   "execution_count": 383,
   "metadata": {},
   "outputs": [
    {
     "data": {
      "text/plain": [
       "[(0, 0), (0, 1), (0, 2), (1, 0), (1, 1), (1, 2)]"
      ]
     },
     "execution_count": 383,
     "metadata": {
      "bento_obj_id": "140564307877832"
     },
     "output_type": "execute_result"
    }
   ],
   "source": [
    "list(product([0, 1], [0, 1, 2]))"
   ]
  },
  {
   "cell_type": "code",
   "execution_count": 384,
   "metadata": {},
   "outputs": [
    {
     "data": {
      "text/plain": [
       "[(0, 0, 0, 0),\n",
       " (0, 0, 0, 1),\n",
       " (0, 0, 1, 0),\n",
       " (0, 0, 1, 1),\n",
       " (0, 1, 0, 0),\n",
       " (0, 1, 0, 1),\n",
       " (0, 1, 1, 0),\n",
       " (0, 1, 1, 1),\n",
       " (1, 0, 0, 0),\n",
       " (1, 0, 0, 1),\n",
       " (1, 0, 1, 0),\n",
       " (1, 0, 1, 1),\n",
       " (1, 1, 0, 0),\n",
       " (1, 1, 0, 1),\n",
       " (1, 1, 1, 0),\n",
       " (1, 1, 1, 1)]"
      ]
     },
     "execution_count": 384,
     "metadata": {
      "bento_obj_id": "140564290066952"
     },
     "output_type": "execute_result"
    }
   ],
   "source": [
    "list(product([0, 1], repeat=4))"
   ]
  },
  {
   "cell_type": "code",
   "execution_count": 385,
   "metadata": {},
   "outputs": [
    {
     "data": {
      "text/plain": [
       "[1, 2, 3]"
      ]
     },
     "execution_count": 385,
     "metadata": {
      "bento_obj_id": "140564289999816"
     },
     "output_type": "execute_result"
    }
   ],
   "source": [
    "list(chain([1, 2], range(3, 4)))"
   ]
  },
  {
   "cell_type": "code",
   "execution_count": 386,
   "metadata": {},
   "outputs": [
    {
     "data": {
      "text/plain": [
       "['a', 'c']"
      ]
     },
     "execution_count": 386,
     "metadata": {
      "bento_obj_id": "140564308387272"
     },
     "output_type": "execute_result"
    }
   ],
   "source": [
    "list(compress('abc', [1,0,True]))"
   ]
  },
  {
   "cell_type": "code",
   "execution_count": 387,
   "metadata": {},
   "outputs": [
    {
     "data": {
      "text/plain": [
       "(<itertools.islice at 0x7fd7ac938a48>, [2, 3])"
      ]
     },
     "execution_count": 387,
     "metadata": {
      "bento_obj_id": "140564290339400"
     },
     "output_type": "execute_result"
    }
   ],
   "source": [
    "it = islice((1, 2, 3), 1, None)\n",
    "it, list(it)"
   ]
  },
  {
   "cell_type": "markdown",
   "metadata": {},
   "source": [
    "## Other important stuff to cover in the future"
   ]
  },
  {
   "cell_type": "markdown",
   "metadata": {},
   "source": [
    "## Coroutine"
   ]
  },
  {
   "cell_type": "markdown",
   "metadata": {},
   "source": [
    "## Threading"
   ]
  },
  {
   "cell_type": "markdown",
   "metadata": {},
   "source": [
    "## Regex"
   ]
  },
  {
   "cell_type": "code",
   "execution_count": null,
   "metadata": {
    "collapsed": true
   },
   "outputs": [],
   "source": []
  }
 ],
 "metadata": {
  "anp_metadata": {
   "path": "notebooks/python-cheatsheet.ipynb"
  },
  "bento_stylesheets": {
   "bento/extensions/flow/main.css": true,
   "bento/extensions/kernel_selector/main.css": true,
   "bento/extensions/kernel_ui/main.css": true,
   "bento/extensions/new_kernel/main.css": true,
   "bento/extensions/system_usage/main.css": true,
   "bento/extensions/theme/main.css": true
  },
  "disseminate_notebook_id": {
   "notebook_id": "205192530320052"
  },
  "disseminate_notebook_info": {
   "backup_notebook_id": "205192530320052"
  },
  "kernelspec": {
   "display_name": "Python 3",
   "language": "python",
   "name": "bento_kernel_default"
  },
  "language_info": {
   "codemirror_mode": {
    "name": "ipython",
    "version": 3
   },
   "file_extension": ".py",
   "mimetype": "text/x-python",
   "name": "python",
   "nbconvert_exporter": "python",
   "pygments_lexer": "ipython3",
   "version": "3.6.3rc1+"
  }
 },
 "nbformat": 4,
 "nbformat_minor": 2
}
